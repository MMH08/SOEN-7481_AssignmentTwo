{
 "cells": [
  {
   "cell_type": "markdown",
   "metadata": {},
   "source": [
    "# Testing a Simple URL Parser Program"
   ]
  },
  {
   "cell_type": "code",
   "execution_count": 10,
   "metadata": {},
   "outputs": [],
   "source": [
    "#import all the libraries\n",
    "from urllib.parse import urlparse\n",
    "from fuzzingbook.MutationFuzzer import MutationFuzzer\n",
    "from fuzzingbook.Coverage import Coverage\n",
    "import random\n",
    "import pandas as pd # data processing, dataframe\n",
    "import seaborn as sns # attractive vizualization of data representation\n"
   ]
  },
  {
   "cell_type": "code",
   "execution_count": null,
   "metadata": {},
   "outputs": [],
   "source": [
    "def http_program(url):\n",
    "    supported_schemes = [\"http\", \"https\"]\n",
    "    result = urlparse(url)\n",
    "    if result.scheme not in supported_schemes:\n",
    "        raise ValueError(\"Scheme must be one of \" + repr(supported_schemes))\n",
    "    if result.netloc == '':\n",
    "        raise ValueError(\"Host must be non-empty\")\n",
    "\n",
    "    # Do something with the URL\n",
    "    return True  "
   ]
  },
  {
   "cell_type": "code",
   "execution_count": 11,
   "metadata": {},
   "outputs": [],
   "source": [
    "def is_valid_url(url):\n",
    "    try:\n",
    "        result = http_program(url)\n",
    "        return True\n",
    "    except ValueError:\n",
    "        return False"
   ]
  },
  {
   "cell_type": "code",
   "execution_count": 12,
   "metadata": {},
   "outputs": [],
   "source": [
    "# the code mutates the input by randomly adding a character from \"A\"-\"z\" (65-127) ascii char\n",
    "def add_random_char(inp):\n",
    "    pos = random.randint(0, len(inp) - 1)\n",
    "    random_character = chr(random.randrange(65, 127))\n",
    "    return inp[:pos] + random_character + inp[pos:]"
   ]
  },
  {
   "cell_type": "code",
   "execution_count": 13,
   "metadata": {},
   "outputs": [
    {
     "data": {
      "text/plain": [
       "0"
      ]
     },
     "execution_count": 13,
     "metadata": {},
     "output_type": "execute_result"
    }
   ],
   "source": [
    "random.randint(0, 10)"
   ]
  },
  {
   "cell_type": "code",
   "execution_count": 14,
   "metadata": {},
   "outputs": [],
   "source": [
    "def flip_random_character(inp):\n",
    "    if inp == \"\":\n",
    "        return inp\n",
    "    pos = random.randint(0, len(inp) - 1)\n",
    "    c = inp[pos]\n",
    "    bit = 1 << random.randint(0, 6)\n",
    "    new_c = chr(ord(c) ^ bit)\n",
    "    return inp[:pos] + new_c + inp[pos + 1:]"
   ]
  },
  {
   "cell_type": "code",
   "execution_count": 15,
   "metadata": {},
   "outputs": [],
   "source": [
    "# the code mutates the input by randomly deleting a character\n",
    "def delete_random_char(inp):\n",
    "    if inp == \"\":\n",
    "        return inp\n",
    "    pos = random.randint(0, len(inp) - 1)\n",
    "    return inp[:pos] + inp[pos+1:]"
   ]
  },
  {
   "cell_type": "code",
   "execution_count": 95,
   "metadata": {},
   "outputs": [],
   "source": [
    "\n",
    "dfSeedCoverage = pd.DataFrame(columns=['Seed', 'TrialNo', 'Coverage'])\n",
    "cumulative_coverage = []\n",
    "def calculate_cumulative_coverage(input_population, is_valid_url):\n",
    "    global dfSeedCoverage\n",
    "    dfSeedCoverage = pd.DataFrame()\n",
    "    global cumulative_coverage \n",
    "    cumulative_coverage = []\n",
    "    all_coverage = set()\n",
    "    beforeUnion = 0\n",
    "    afterUnion = 0\n",
    "    trialNo = 0\n",
    "    \n",
    "    for inp in input_population:\n",
    "        with Coverage() as cov:\n",
    "            try:\n",
    "                is_valid_url(inp) # this is the program we are testing using the mutationFuzzer()\n",
    "            except:\n",
    "                raise ValueError(\"We found exception from this input: \", +inp)\n",
    "        \n",
    "        trialNo +=1\n",
    "        # set union to get the increased coverage number for next seed\n",
    "        beforeUnion = len(all_coverage)\n",
    "        all_coverage = all_coverage.union(cov.coverage())\n",
    "        afterUnion = len(all_coverage)  \n",
    "        #print(afterUnion, beforeUnion)  \n",
    "        if(afterUnion > beforeUnion):\n",
    "            #print(\"after:\" +inp)\n",
    "            cumulative_coverage.append(len(all_coverage))\n",
    "            dfSeedCoverage = dfSeedCoverage.append({'Seed': inp, 'TrialNo': trialNo, 'Coverage': afterUnion}, \n",
    "                                                   ignore_index=True) \n",
    "            \n",
    "    return cumulative_coverage\n",
    "\n"
   ]
  },
  {
   "cell_type": "code",
   "execution_count": 101,
   "metadata": {},
   "outputs": [
    {
     "data": {
      "text/html": [
       "<div>\n",
       "<style scoped>\n",
       "    .dataframe tbody tr th:only-of-type {\n",
       "        vertical-align: middle;\n",
       "    }\n",
       "\n",
       "    .dataframe tbody tr th {\n",
       "        vertical-align: top;\n",
       "    }\n",
       "\n",
       "    .dataframe thead th {\n",
       "        text-align: right;\n",
       "    }\n",
       "</style>\n",
       "<table border=\"1\" class=\"dataframe\">\n",
       "  <thead>\n",
       "    <tr style=\"text-align: right;\">\n",
       "      <th></th>\n",
       "      <th>Coverage</th>\n",
       "      <th>Seed</th>\n",
       "      <th>TrialNo</th>\n",
       "    </tr>\n",
       "  </thead>\n",
       "  <tbody>\n",
       "    <tr>\n",
       "      <th>0</th>\n",
       "      <td>58.0</td>\n",
       "      <td>https://www.google.com/?def=18&amp;abc=abc</td>\n",
       "      <td>1.0</td>\n",
       "    </tr>\n",
       "    <tr>\n",
       "      <th>1</th>\n",
       "      <td>61.0</td>\n",
       "      <td>htcftps://www68.g3ogle.cmm/def=18&amp;abc?abc</td>\n",
       "      <td>2.0</td>\n",
       "    </tr>\n",
       "    <tr>\n",
       "      <th>2</th>\n",
       "      <td>62.0</td>\n",
       "      <td>ht/Fs://wJww.googWn!e.com/?def=18&amp;abc=Yabc</td>\n",
       "      <td>4.0</td>\n",
       "    </tr>\n",
       "    <tr>\n",
       "      <th>3</th>\n",
       "      <td>65.0</td>\n",
       "      <td>hptds://wwwu.gOooge*cM/?ef=18&amp;abc=abc</td>\n",
       "      <td>12.0</td>\n",
       "    </tr>\n",
       "    <tr>\n",
       "      <th>4</th>\n",
       "      <td>66.0</td>\n",
       "      <td>https:/:/www.google.coim/?dYef=18&amp;abc=ab</td>\n",
       "      <td>14.0</td>\n",
       "    </tr>\n",
       "    <tr>\n",
       "      <th>5</th>\n",
       "      <td>67.0</td>\n",
       "      <td>htps://[www.googlencom/?def=H18abc=abc</td>\n",
       "      <td>23.0</td>\n",
       "    </tr>\n",
       "    <tr>\n",
       "      <th>6</th>\n",
       "      <td>72.0</td>\n",
       "      <td>https:^//w;ww.google.com/?$ef=18&amp;abc=a+bc</td>\n",
       "      <td>24.0</td>\n",
       "    </tr>\n",
       "    <tr>\n",
       "      <th>7</th>\n",
       "      <td>73.0</td>\n",
       "      <td>https://www.googlOe.com/?def=1:&amp;b#=abc</td>\n",
       "      <td>27.0</td>\n",
       "    </tr>\n",
       "    <tr>\n",
       "      <th>8</th>\n",
       "      <td>85.0</td>\n",
       "      <td>http://www.goog|e.cwom/?def=1V8&amp;abc=abc</td>\n",
       "      <td>31.0</td>\n",
       "    </tr>\n",
       "    <tr>\n",
       "      <th>9</th>\n",
       "      <td>86.0</td>\n",
       "      <td>httbs//ww.google.com/;def18&amp;bdc=abc</td>\n",
       "      <td>94.0</td>\n",
       "    </tr>\n",
       "    <tr>\n",
       "      <th>10</th>\n",
       "      <td>87.0</td>\n",
       "      <td>http://www3.googl[Xe.com/de=18aba=abc</td>\n",
       "      <td>999.0</td>\n",
       "    </tr>\n",
       "  </tbody>\n",
       "</table>\n",
       "</div>"
      ],
      "text/plain": [
       "    Coverage                                        Seed  TrialNo\n",
       "0       58.0      https://www.google.com/?def=18&abc=abc      1.0\n",
       "1       61.0  htcftps://www68.g3ogle.cmm/def=18&abc?abc      2.0\n",
       "2       62.0  ht/Fs://wJww.googWn!e.com/?def=18&abc=Yabc      4.0\n",
       "3       65.0       hptds://wwwu.gOooge*cM/?ef=18&abc=abc     12.0\n",
       "4       66.0    https:/:/www.google.coim/?dYef=18&abc=ab     14.0\n",
       "5       67.0      htps://[www.googlencom/?def=H18abc=abc     23.0\n",
       "6       72.0   https:^//w;ww.google.com/?$ef=18&abc=a+bc     24.0\n",
       "7       73.0      https://www.googlOe.com/?def=1:&b#=abc     27.0\n",
       "8       85.0     http://www.goog|e.cwom/?def=1V8&abc=abc     31.0\n",
       "9       86.0         httbs//ww.google.com/;def18&bdc=abc     94.0\n",
       "10      87.0       http://www3.googl[Xe.com/de=18aba=abc    999.0"
      ]
     },
     "execution_count": 101,
     "metadata": {},
     "output_type": "execute_result"
    }
   ],
   "source": [
    "trials = 1000\n",
    "newSeed = \"https://www.google.com/?def=18&abc=abc\"\n",
    "mutation_fuzzer = MutationFuzzer(seed = [newSeed])\n",
    "population = []\n",
    "\n",
    "for i in range(0, trials):\n",
    "    population.append(mutation_fuzzer.fuzz())\n",
    "    cumulative_coverage = calculate_cumulative_coverage(population, is_valid_url)\n",
    "dfSeedCoverage"
   ]
  },
  {
   "cell_type": "code",
   "execution_count": 64,
   "metadata": {},
   "outputs": [
    {
     "data": {
      "text/plain": [
       "Text(0, 0.5, 'lines covered')"
      ]
     },
     "execution_count": 64,
     "metadata": {},
     "output_type": "execute_result"
    },
    {
     "data": {
      "image/png": "[encoded data removed]",
      "text/plain": [
       "<Figure size 432x288 with 1 Axes>"
      ]
     },
     "metadata": {
      "needs_background": "light"
     },
     "output_type": "display_data"
    }
   ],
   "source": [
    "import matplotlib.pyplot as plt\n",
    "%matplotlib inline\n",
    "\n",
    "plt.plot(cumulative_coverage)\n",
    "plt.title('Coverage of is_valid_url() with random inputs')\n",
    "plt.xlabel('# of inputs')\n",
    "plt.ylabel('lines covered')"
   ]
  },
  {
   "cell_type": "code",
   "execution_count": 62,
   "metadata": {},
   "outputs": [
    {
     "data": {
      "text/html": [
       "<div>\n",
       "<style scoped>\n",
       "    .dataframe tbody tr th:only-of-type {\n",
       "        vertical-align: middle;\n",
       "    }\n",
       "\n",
       "    .dataframe tbody tr th {\n",
       "        vertical-align: top;\n",
       "    }\n",
       "\n",
       "    .dataframe thead th {\n",
       "        text-align: right;\n",
       "    }\n",
       "</style>\n",
       "<table border=\"1\" class=\"dataframe\">\n",
       "  <thead>\n",
       "    <tr style=\"text-align: right;\">\n",
       "      <th></th>\n",
       "      <th>Coverage</th>\n",
       "      <th>Seed</th>\n",
       "      <th>TrialNo</th>\n",
       "    </tr>\n",
       "  </thead>\n",
       "  <tbody>\n",
       "    <tr>\n",
       "      <th>0</th>\n",
       "      <td>51.0</td>\n",
       "      <td>http://www.concordia.ca</td>\n",
       "      <td>1.0</td>\n",
       "    </tr>\n",
       "    <tr>\n",
       "      <th>1</th>\n",
       "      <td>54.0</td>\n",
       "      <td>http:/wwncncorda:a</td>\n",
       "      <td>2.0</td>\n",
       "    </tr>\n",
       "    <tr>\n",
       "      <th>2</th>\n",
       "      <td>67.0</td>\n",
       "      <td>jhttx;//ws.comcodia.ca</td>\n",
       "      <td>4.0</td>\n",
       "    </tr>\n",
       "    <tr>\n",
       "      <th>3</th>\n",
       "      <td>76.0</td>\n",
       "      <td>tp://ww.cncordia.ca</td>\n",
       "      <td>5.0</td>\n",
       "    </tr>\n",
       "    <tr>\n",
       "      <th>4</th>\n",
       "      <td>77.0</td>\n",
       "      <td>htt`p:{//w.concorl%ia.c|a</td>\n",
       "      <td>6.0</td>\n",
       "    </tr>\n",
       "    <tr>\n",
       "      <th>5</th>\n",
       "      <td>78.0</td>\n",
       "      <td>http:?/www.cono\\rdianca</td>\n",
       "      <td>8.0</td>\n",
       "    </tr>\n",
       "    <tr>\n",
       "      <th>6</th>\n",
       "      <td>79.0</td>\n",
       "      <td>htt`&gt;//ww.c#oncoVrdia.ca</td>\n",
       "      <td>10.0</td>\n",
       "    </tr>\n",
       "    <tr>\n",
       "      <th>7</th>\n",
       "      <td>82.0</td>\n",
       "      <td>htp//www&amp;cocord#iaj.ca</td>\n",
       "      <td>17.0</td>\n",
       "    </tr>\n",
       "    <tr>\n",
       "      <th>8</th>\n",
       "      <td>83.0</td>\n",
       "      <td>htdp://www.c*oncor/dia.ca</td>\n",
       "      <td>19.0</td>\n",
       "    </tr>\n",
       "    <tr>\n",
       "      <th>9</th>\n",
       "      <td>84.0</td>\n",
       "      <td>lttp:/?www. cocordia.ca</td>\n",
       "      <td>41.0</td>\n",
       "    </tr>\n",
       "    <tr>\n",
       "      <th>10</th>\n",
       "      <td>85.0</td>\n",
       "      <td>http://wwNw.con#r/eianca</td>\n",
       "      <td>48.0</td>\n",
       "    </tr>\n",
       "    <tr>\n",
       "      <th>11</th>\n",
       "      <td>86.0</td>\n",
       "      <td>http://ww.conjc]Ordia.ca</td>\n",
       "      <td>62.0</td>\n",
       "    </tr>\n",
       "    <tr>\n",
       "      <th>12</th>\n",
       "      <td>87.0</td>\n",
       "      <td>httA*p:/'www.concordia;.kma</td>\n",
       "      <td>242.0</td>\n",
       "    </tr>\n",
       "    <tr>\n",
       "      <th>13</th>\n",
       "      <td>88.0</td>\n",
       "      <td>htpT://lww[w.concORdia.c</td>\n",
       "      <td>443.0</td>\n",
       "    </tr>\n",
       "    <tr>\n",
       "      <th>14</th>\n",
       "      <td>89.0</td>\n",
       "      <td>http;+.www.cncoria.b!</td>\n",
       "      <td>670.0</td>\n",
       "    </tr>\n",
       "  </tbody>\n",
       "</table>\n",
       "</div>"
      ],
      "text/plain": [
       "    Coverage                         Seed  TrialNo\n",
       "0       51.0      http://www.concordia.ca      1.0\n",
       "1       54.0          http:/wwncncorda:a      2.0\n",
       "2       67.0      jhttx;//ws.comcodia.ca      4.0\n",
       "3       76.0          tp://ww.cncordia.ca      5.0\n",
       "4       77.0    htt`p:{//w.concorl%ia.c|a      6.0\n",
       "5       78.0      http:?/www.cono\\rdianca      8.0\n",
       "6       79.0     htt`>//ww.c#oncoVrdia.ca     10.0\n",
       "7       82.0       htp//www&cocord#iaj.ca     17.0\n",
       "8       83.0    htdp://www.c*oncor/dia.ca     19.0\n",
       "9       84.0      lttp:/?www. cocordia.ca     41.0\n",
       "10      85.0     http://wwNw.con#r/eianca     48.0\n",
       "11      86.0     http://ww.conjc]Ordia.ca     62.0\n",
       "12      87.0  httA*p:/'www.concordia;.kma    242.0\n",
       "13      88.0     htpT://lww[w.concORdia.c    443.0\n",
       "14      89.0       http;+.www.cncoria.b!    670.0"
      ]
     },
     "execution_count": 62,
     "metadata": {},
     "output_type": "execute_result"
    }
   ],
   "source": [
    "trials = 1000\n",
    "newSeed = \"http://www.my.concordia.ca\"\n",
    "mutation_fuzzer = MutationFuzzer(seed = [newSeed])\n",
    "population = []\n",
    "\n",
    "for i in range(0, trials):\n",
    "    population.append(mutation_fuzzer.fuzz())\n",
    "cumulative_coverage = calculate_cumulative_coverage(population, is_valid_url)\n",
    "dfSeedCoverage\n"
   ]
  },
  {
   "cell_type": "code",
   "execution_count": 63,
   "metadata": {},
   "outputs": [
    {
     "data": {
      "text/plain": [
       "<matplotlib.axes._subplots.AxesSubplot at 0x1061fb3c8>"
      ]
     },
     "execution_count": 63,
     "metadata": {},
     "output_type": "execute_result"
    },
    {
     "data": {
      "image/png": "[encoded data removed]",
      "text/plain": [
       "<Figure size 432x288 with 1 Axes>"
      ]
     },
     "metadata": {
      "needs_background": "light"
     },
     "output_type": "display_data"
    }
   ],
   "source": [
    "dfSeedCoverage.plot( y='Coverage', kind = 'line', \n",
    "                    title ='Coverage of is_valid_url() with random inputs')\n"
   ]
  },
  {
   "cell_type": "code",
   "execution_count": 20,
   "metadata": {},
   "outputs": [
    {
     "data": {
      "text/plain": [
       "'www.concordia.ca'"
      ]
     },
     "execution_count": 20,
     "metadata": {},
     "output_type": "execute_result"
    }
   ],
   "source": [
    "newSeed = \"http://www.concordia.ca\"\n",
    "newSeed.split(\"//\",2)[1]"
   ]
  },
  {
   "cell_type": "code",
   "execution_count": 93,
   "metadata": {},
   "outputs": [
    {
     "name": "stdout",
     "output_type": "stream",
     "text": [
      "Empty DataFrame\n",
      "Columns: []\n",
      "Index: [1]\n"
     ]
    }
   ],
   "source": [
    "abc = dfSeedCoverage.tail(1)\n",
    "print(dfSeedCoverage.iloc[ 1 : 2 ,  1 : 1 ])"
   ]
  },
  {
   "cell_type": "code",
   "execution_count": null,
   "metadata": {},
   "outputs": [],
   "source": []
  }
 ],
 "metadata": {
  "kernelspec": {
   "display_name": "Python 3",
   "language": "python",
   "name": "python3"
  },
  "language_info": {
   "codemirror_mode": {
    "name": "ipython",
    "version": 3
   },
   "file_extension": ".py",
   "mimetype": "text/x-python",
   "name": "python",
   "nbconvert_exporter": "python",
   "pygments_lexer": "ipython3",
   "version": "3.7.3"
  }
 },
 "nbformat": 4,
 "nbformat_minor": 2
}
